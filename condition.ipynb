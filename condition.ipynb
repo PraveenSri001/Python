{
 "cells": [
  {
   "cell_type": "markdown",
   "metadata": {},
   "source": [
    "## Conditions"
   ]
  },
  {
   "cell_type": "code",
   "execution_count": 11,
   "metadata": {},
   "outputs": [
    {
     "name": "stdout",
     "output_type": "stream",
     "text": [
      "Fail\n"
     ]
    }
   ],
   "source": [
    "marks=(int(input('Enter Your Marks')))\n",
    "if marks>=90:\n",
    "    print('A+')\n",
    "if marks>=80:\n",
    "    print('A')\n",
    "if marks>=70:\n",
    "    print('B')\n",
    "if marks>=60:\n",
    "    print('C')\n",
    "if marks<60:\n",
    "    print('Fail')"
   ]
  },
  {
   "cell_type": "code",
   "execution_count": 14,
   "metadata": {},
   "outputs": [
    {
     "name": "stdout",
     "output_type": "stream",
     "text": [
      "95 A+\n"
     ]
    }
   ],
   "source": [
    "marks=(int(input('Enter Your Marks')))\n",
    "if marks>=90:\n",
    "    print(marks, 'A+')\n",
    "elif marks>=80:\n",
    "    print(marks, 'A')\n",
    "elif marks>=70:\n",
    "    print(marks, 'B')\n",
    "elif marks>=60:\n",
    "    print(marks, 'C')\n",
    "else:\n",
    "    print(marks, 'Fail')"
   ]
  },
  {
   "cell_type": "code",
   "execution_count": 18,
   "metadata": {},
   "outputs": [
    {
     "name": "stdout",
     "output_type": "stream",
     "text": [
      "35 : Person is Eligible to Vote\n"
     ]
    }
   ],
   "source": [
    "age=int(input('Enter Your Age'))\n",
    "if age>=18:\n",
    "    print( age,': Person is Eligible to Vote')\n",
    "else:\n",
    "    print(age,': Person is not Eligible to Vote')"
   ]
  },
  {
   "cell_type": "code",
   "execution_count": 60,
   "metadata": {},
   "outputs": [
    {
     "name": "stdout",
     "output_type": "stream",
     "text": [
      "-5 Negative\n"
     ]
    }
   ],
   "source": [
    "#1 WAP to check whether a number is positive or negative\n",
    "num=int(input('Enter A Number'))\n",
    "if num>0:\n",
    "    print(num,'Positive')\n",
    "else:\n",
    "    print(num,'Negative')"
   ]
  },
  {
   "cell_type": "code",
   "execution_count": null,
   "metadata": {},
   "outputs": [
    {
     "name": "stdout",
     "output_type": "stream",
     "text": [
      "12 Even\n"
     ]
    }
   ],
   "source": [
    "#2 WAP to check if a number is Even OR Odd\n",
    "num1=int(input('Enter A Number'))\n",
    "if num1%2==0:\n",
    "    print(num1,'Even')\n",
    "else:\n",
    "    print(num1,'Odd')"
   ]
  },
  {
   "cell_type": "code",
   "execution_count": null,
   "metadata": {},
   "outputs": [],
   "source": [
    "#3 WAP to check whether a triangle is Equilateral or isosceles\n",
    "s1=int(input('Enter First Side'))\n",
    "s2=int(input('Enter Second Side'))\n",
    "s3=int(input('Enter Third Side'))\n",
    "if s1==s2 and s1==s3:\n",
    "    print('Triangle is Equilateral')\n",
    "elif s1==s2 or s1==s3:\n",
    "    print('Triangle is Isosceles')"
   ]
  },
  {
   "cell_type": "code",
   "execution_count": null,
   "metadata": {},
   "outputs": [],
   "source": [
    "#4 Take a List of 10 apps and check whether \"Zomato\" is in the List or Not\n",
    "list=['Insta', 'Google', 'Whatsapp', 'Snap', 'Ola', 'Uber', 'Rapidpo', 'Zomato', 'Youtube', 'Canva' ]"
   ]
  },
  {
   "cell_type": "code",
   "execution_count": null,
   "metadata": {},
   "outputs": [
    {
     "name": "stdout",
     "output_type": "stream",
     "text": [
      "e Vovel\n"
     ]
    }
   ],
   "source": [
    "#5 WAP to check is a character entered by user is Vovel or Not\n",
    "alpha=input('Enter A Character')\n",
    "if alpha==('a'):\n",
    "    print(alpha,'Vovel')\n",
    "elif alpha==('e'):\n",
    "    print(alpha,'Vovel')\n",
    "elif alpha==('i'):\n",
    "    print(alpha,'vovel')\n",
    "elif alpha==('o'):\n",
    "    print(alpha,'Vovel')\n",
    "elif alpha==('u'):\n",
    "    print(alpha,'Vovel')\n",
    "else:\n",
    "    print(alpha,'Consonant')"
   ]
  },
  {
   "cell_type": "code",
   "execution_count": 61,
   "metadata": {},
   "outputs": [
    {
     "name": "stdout",
     "output_type": "stream",
     "text": [
      "1 2 Both Sides Are Not Equal\n"
     ]
    }
   ],
   "source": [
    "#6 Check whether two sides entered by user are equal or not\n",
    "side1=int(input('Enter First Side'))\n",
    "side2=int(input('Enter Second Side'))\n",
    "if side1==side2:\n",
    "    print(side1,side2,'Both Sides AreEqual')\n",
    "else:\n",
    "    print(side1,side2,'Both Sides Are Not Equal')"
   ]
  },
  {
   "cell_type": "markdown",
   "metadata": {},
   "source": [
    "## #Nested Condition"
   ]
  },
  {
   "cell_type": "code",
   "execution_count": 3,
   "metadata": {},
   "outputs": [
    {
     "name": "stdout",
     "output_type": "stream",
     "text": [
      "praveensri9005@gmail.com\n",
      "Lucifer001\n"
     ]
    }
   ],
   "source": [
    "email=\"praveensri9005@gmail.com\"\n",
    "password=\"Lucifer001\"\n",
    "print(email)\n",
    "print(password)"
   ]
  },
  {
   "cell_type": "code",
   "execution_count": 18,
   "metadata": {},
   "outputs": [
    {
     "name": "stdout",
     "output_type": "stream",
     "text": [
      "Registration Sucessful🎉😍\n",
      "Username: Praveen Srivastav\n",
      "Email: qwertyvikram001@gmail.com\n"
     ]
    }
   ],
   "source": [
    "username=input(\"Enter Username\")\n",
    "email=input(\"Enter Email\")\n",
    "password=input('Enter Password')\n",
    "cpass=input('Enter Confirm Password')\n",
    "if len(username)>=10 and len(username)<=20:\n",
    "    if '@' in email and len(email)>=10 and len(email)<=50:\n",
    "        if password==cpass:\n",
    "            print('Registration Sucessful🎉😍')\n",
    "            print('Username:', username)\n",
    "            print('Email:', email)\n",
    "        else:\n",
    "            print('Password And Confirm Password Should Be Same😭😫')\n",
    "    else:\n",
    "        print('Invalid Email😫😓')\n",
    "else:\n",
    "    print('Invalid Username😱😭😖')\n",
    "            "
   ]
  },
  {
   "cell_type": "code",
   "execution_count": null,
   "metadata": {},
   "outputs": [],
   "source": []
  }
 ],
 "metadata": {
  "kernelspec": {
   "display_name": "base",
   "language": "python",
   "name": "python3"
  },
  "language_info": {
   "codemirror_mode": {
    "name": "ipython",
    "version": 3
   },
   "file_extension": ".py",
   "mimetype": "text/x-python",
   "name": "python",
   "nbconvert_exporter": "python",
   "pygments_lexer": "ipython3",
   "version": "3.12.7"
  }
 },
 "nbformat": 4,
 "nbformat_minor": 2
}
