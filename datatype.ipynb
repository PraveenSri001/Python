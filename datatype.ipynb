{
 "cells": [
  {
   "cell_type": "markdown",
   "metadata": {},
   "source": [
    "### Datatypes"
   ]
  },
  {
   "cell_type": "code",
   "execution_count": 1,
   "metadata": {},
   "outputs": [
    {
     "name": "stdout",
     "output_type": "stream",
     "text": [
      "Raj\n"
     ]
    }
   ],
   "source": [
    "name=\"Raj\"\n",
    "print(name)"
   ]
  },
  {
   "cell_type": "code",
   "execution_count": 3,
   "metadata": {},
   "outputs": [
    {
     "name": "stdout",
     "output_type": "stream",
     "text": [
      "Johny Johny Yes Papa\n",
      "Enting Suger No Papa\n",
      "Telling A LIe No Papa\n",
      "Open Your Mouth Ha Ha Ha\n"
     ]
    }
   ],
   "source": [
    "poem='''Johny Johny Yes Papa\n",
    "Enting Suger No Papa\n",
    "Telling A LIe No Papa\n",
    "Open Your Mouth Ha Ha Ha'''\n",
    "print(poem)"
   ]
  },
  {
   "cell_type": "code",
   "execution_count": 11,
   "metadata": {},
   "outputs": [
    {
     "name": "stdout",
     "output_type": "stream",
     "text": [
      "['Apple', 'Guava', 'Banana', 'Orange']\n"
     ]
    }
   ],
   "source": [
    "#LIST\n",
    "fruits=['Apple' , 'Guava' , 'Banana' , 'Orange']\n",
    "print(fruits)"
   ]
  },
  {
   "cell_type": "code",
   "execution_count": 14,
   "metadata": {},
   "outputs": [
    {
     "name": "stdout",
     "output_type": "stream",
     "text": [
      "('Zomato', 'Swiggi', 'Maps', 'Google')\n"
     ]
    }
   ],
   "source": [
    "#TUPLE\n",
    "apps=('Zomato' , 'Swiggi' , 'Maps' , 'Google')\n",
    "print(apps) "
   ]
  },
  {
   "cell_type": "code",
   "execution_count": 15,
   "metadata": {},
   "outputs": [
    {
     "name": "stdout",
     "output_type": "stream",
     "text": [
      "{'2', '3', '4', '1'}\n"
     ]
    }
   ],
   "source": [
    "#SETS\n",
    "num={'1' , '2', '3' , '1' , '4' , '2'}\n",
    "print(num)"
   ]
  },
  {
   "cell_type": "code",
   "execution_count": 25,
   "metadata": {},
   "outputs": [
    {
     "name": "stdout",
     "output_type": "stream",
     "text": [
      "{'Brand': 'Ford', 'Model': 'Mustang', 'Year': 1969}\n"
     ]
    }
   ],
   "source": [
    "#Dictionaries\n",
    "car_info={\n",
    "    \"Brand\":\"Ford\",\n",
    "    \"Model\":\"Mustang\",\n",
    "    \"Year\": 1969\n",
    "}\n",
    "print(car_info)"
   ]
  },
  {
   "cell_type": "code",
   "execution_count": 26,
   "metadata": {},
   "outputs": [
    {
     "name": "stdout",
     "output_type": "stream",
     "text": [
      "{'Name': 'John', 'Age': 15, 'Class': '10th'}\n"
     ]
    }
   ],
   "source": [
    "student={\n",
    "    \"Name\":\"John\",\n",
    "    \"Age\": 15,\n",
    "    \"Class\":\"10th\"\n",
    "}\n",
    "print(student)"
   ]
  },
  {
   "cell_type": "code",
   "execution_count": 33,
   "metadata": {},
   "outputs": [
    {
     "data": {
      "text/plain": [
       "str"
      ]
     },
     "execution_count": 33,
     "metadata": {},
     "output_type": "execute_result"
    }
   ],
   "source": [
    "#To check Datatype of any value\n",
    "nam=\"Raj\"\n",
    "type(nam)"
   ]
  },
  {
   "cell_type": "code",
   "execution_count": 31,
   "metadata": {},
   "outputs": [
    {
     "data": {
      "text/plain": [
       "int"
      ]
     },
     "execution_count": 31,
     "metadata": {},
     "output_type": "execute_result"
    }
   ],
   "source": [
    "age=21\n",
    "type(age)"
   ]
  },
  {
   "cell_type": "code",
   "execution_count": 40,
   "metadata": {},
   "outputs": [
    {
     "name": "stdout",
     "output_type": "stream",
     "text": [
      "2\n"
     ]
    },
    {
     "data": {
      "text/plain": [
       "int"
      ]
     },
     "execution_count": 40,
     "metadata": {},
     "output_type": "execute_result"
    }
   ],
   "source": [
    "#Type Casting (First Method)\n",
    "number=int(input('Enter A Value'))\n",
    "print(number)\n",
    "type(number)\n"
   ]
  },
  {
   "cell_type": "code",
   "execution_count": 38,
   "metadata": {},
   "outputs": [
    {
     "name": "stdout",
     "output_type": "stream",
     "text": [
      "5\n"
     ]
    },
    {
     "data": {
      "text/plain": [
       "int"
      ]
     },
     "execution_count": 38,
     "metadata": {},
     "output_type": "execute_result"
    }
   ],
   "source": [
    "#(Second Method)\n",
    "nmbr=input('Enter A Value')\n",
    "nmbr1=int(nmbr)\n",
    "print(nmbr1)\n",
    "type(nmbr1)"
   ]
  },
  {
   "cell_type": "code",
   "execution_count": 57,
   "metadata": {},
   "outputs": [
    {
     "name": "stdout",
     "output_type": "stream",
     "text": [
      "Sum is 5\n"
     ]
    }
   ],
   "source": [
    "#Formatting\n",
    "#WAP to add Two Numbers\n",
    "a=2\n",
    "b=3\n",
    "sum=a+b\n",
    "print('Sum is', sum)"
   ]
  },
  {
   "cell_type": "code",
   "execution_count": 56,
   "metadata": {},
   "outputs": [
    {
     "name": "stdout",
     "output_type": "stream",
     "text": [
      "Sum is 5\n"
     ]
    }
   ],
   "source": [
    "#OR\n",
    "a=2\n",
    "b=3\n",
    "print('Sum is', a+b)"
   ]
  },
  {
   "cell_type": "code",
   "execution_count": 58,
   "metadata": {},
   "outputs": [
    {
     "name": "stdout",
     "output_type": "stream",
     "text": [
      "Sum of 2 and 3 is 5\n",
      "Sum of 2 and 3 is 5\n"
     ]
    }
   ],
   "source": [
    "a=2\n",
    "b=3\n",
    "print('Sum of',a,'and',b , 'is', a+b) #or\n",
    "print(f'Sum of {a} and {b} is {a+b}')"
   ]
  },
  {
   "cell_type": "code",
   "execution_count": null,
   "metadata": {},
   "outputs": [],
   "source": []
  }
 ],
 "metadata": {
  "kernelspec": {
   "display_name": "base",
   "language": "python",
   "name": "python3"
  },
  "language_info": {
   "codemirror_mode": {
    "name": "ipython",
    "version": 3
   },
   "file_extension": ".py",
   "mimetype": "text/x-python",
   "name": "python",
   "nbconvert_exporter": "python",
   "pygments_lexer": "ipython3",
   "version": "3.12.7"
  }
 },
 "nbformat": 4,
 "nbformat_minor": 2
}
